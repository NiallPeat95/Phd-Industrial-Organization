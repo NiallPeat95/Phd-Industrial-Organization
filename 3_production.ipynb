{
 "cells": [
  {
   "cell_type": "markdown",
   "id": "d887de4e",
   "metadata": {
    "slideshow": {
     "slide_type": "slide"
    }
   },
   "source": [
    "# 3. Production Function Estimation"
   ]
  },
  {
   "cell_type": "markdown",
   "id": "8fbb97f7",
   "metadata": {
    "slideshow": {
     "slide_type": "slide"
    }
   },
   "source": [
    "# Motivation\n",
    "\n",
    "- Estimating production and cost functions of producers is the cornerstone of economic analysis.\n",
    "- Estimating the functions includes to separate the contribution of observed inputs and the other factors, which is often referred to as the productivity.\n",
    "- “What determines productivity?” [Syverson, 2011](https://www.aeaweb.org/articles?id=10.1257/jel.49.2.326)-type research questions naturally follow.\n",
    "- The methods covered in this chapter are widely used across different fields.\n",
    "- Some of them are variants from the standard methods."
   ]
  },
  {
   "cell_type": "markdown",
   "id": "b2e21437",
   "metadata": {
    "slideshow": {
     "slide_type": "slide"
    }
   },
   "source": [
    "To go to code, press `arrow-down`."
   ]
  },
  {
   "cell_type": "code",
   "execution_count": null,
   "id": "40190a69",
   "metadata": {
    "slideshow": {
     "slide_type": "subslide"
    }
   },
   "outputs": [],
   "source": [
    "# Here you can put code \n",
    "a = 1"
   ]
  }
 ],
 "metadata": {
  "celltoolbar": "Slideshow",
  "kernelspec": {
   "display_name": "Julia 1.6.1",
   "language": "julia",
   "name": "julia-1.6"
  },
  "language_info": {
   "file_extension": ".jl",
   "mimetype": "application/julia",
   "name": "julia",
   "version": "1.6.1"
  }
 },
 "nbformat": 4,
 "nbformat_minor": 5
}
