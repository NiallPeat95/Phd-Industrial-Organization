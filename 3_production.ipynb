{
 "cells": [
  {
   "cell_type": "markdown",
   "id": "d887de4e",
   "metadata": {},
   "source": [
    "# 3. Production Function Estimation"
   ]
  },
  {
   "cell_type": "markdown",
   "id": "2144ed57",
   "metadata": {},
   "source": [
    "## 3.1 Motivation"
   ]
  },
  {
   "cell_type": "markdown",
   "id": "8fbb97f7",
   "metadata": {},
   "source": [
    "- Estimating production and cost functions of producers is the cornerstone of economic analysis.\n",
    "- Estimating the functions includes to separate the contribution of observed inputs and the other factors, which is often referred to as the productivity.\n",
    "- “What determines productivity?” [Syverson, 2011](https://www.aeaweb.org/articles?id=10.1257/jel.49.2.326)-type research questions naturally follow.\n",
    "- The methods covered in this chapter are widely used across different fields.\n",
    "- Some of them are variants from the standard methods."
   ]
  },
  {
   "cell_type": "code",
   "execution_count": null,
   "id": "40190a69",
   "metadata": {},
   "outputs": [],
   "source": []
  }
 ],
 "metadata": {
  "kernelspec": {
   "display_name": "Julia 1.5.3",
   "language": "julia",
   "name": "julia-1.5"
  },
  "language_info": {
   "file_extension": ".jl",
   "mimetype": "application/julia",
   "name": "julia",
   "version": "1.5.3"
  }
 },
 "nbformat": 4,
 "nbformat_minor": 5
}
