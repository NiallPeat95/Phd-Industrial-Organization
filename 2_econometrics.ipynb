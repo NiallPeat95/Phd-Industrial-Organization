{
 "cells": [
  {
   "cell_type": "markdown",
   "id": "00ca5b1a",
   "metadata": {},
   "source": [
    "# 2. Econometrics Intro"
   ]
  },
  {
   "cell_type": "markdown",
   "id": "d511944e",
   "metadata": {},
   "source": [
    "In this session, we will cover a brief introduction to econometrics which includes least squares, maximum likelihood and methods of moments estimation."
   ]
  },
  {
   "cell_type": "code",
   "execution_count": null,
   "id": "da875eaf",
   "metadata": {},
   "outputs": [],
   "source": []
  }
 ],
 "metadata": {
  "kernelspec": {
   "display_name": "Julia 1.5.3",
   "language": "julia",
   "name": "julia-1.5"
  },
  "language_info": {
   "file_extension": ".jl",
   "mimetype": "application/julia",
   "name": "julia",
   "version": "1.5.3"
  }
 },
 "nbformat": 4,
 "nbformat_minor": 5
}
