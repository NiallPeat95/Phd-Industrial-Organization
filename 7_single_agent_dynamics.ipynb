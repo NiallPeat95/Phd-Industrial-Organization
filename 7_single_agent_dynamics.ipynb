{
 "cells": [
  {
   "cell_type": "markdown",
   "id": "409a4e1d",
   "metadata": {
    "slideshow": {
     "slide_type": "slide"
    }
   },
   "source": [
    "# Single Agent Dynamics"
   ]
  },
  {
   "cell_type": "markdown",
   "id": "b1b7f540",
   "metadata": {
    "slideshow": {
     "slide_type": "slide"
    }
   },
   "source": [
    "## Rust (1987) \n",
    "*Optimal Replacement of GMC Bus Engines: An Empirical Model of Harold Zurcher*"
   ]
  },
  {
   "cell_type": "markdown",
   "id": "b7f271c9",
   "metadata": {
    "slideshow": {
     "slide_type": "slide"
    }
   },
   "source": [
    "# Slide title\n",
    "\n",
    "- **State**: mileage of the bus\n",
    "\n",
    "    $$x_t \\in \\{1, ..., 10\\}$$\n",
    "    \n",
    "- **State transitions**: with probability $\\lambda$ the mileage of the bus increases\n",
    "    \n",
    "    $$\n",
    "    x_{t+1} = \\begin{cases}\n",
    "    \\min \\left\\{ x_t + 1,10 \\right\\}  & \\text { with probability } \\lambda \\\\ \n",
    "    x_t & \\text { with probability } 1 - \\lambda\n",
    "    \\end{cases}\n",
    "    $$\n",
    "    \n",
    "    Note that $\\lambda$ does not depend on the value of the state\n"
   ]
  },
  {
   "cell_type": "code",
   "execution_count": 63,
   "id": "782406b4",
   "metadata": {
    "slideshow": {
     "slide_type": "subslide"
    }
   },
   "outputs": [],
   "source": [
    "# Import packages\n",
    "using Distributions\n",
    "\n",
    "# Set parameters\n",
    "theta = [0.13; -0.004; 3.1]\n",
    "lambda = 0.82\n",
    "beta = 0.95;"
   ]
  },
  {
   "cell_type": "code",
   "execution_count": 64,
   "id": "9e2c203a",
   "metadata": {
    "slideshow": {
     "slide_type": "subslide"
    }
   },
   "outputs": [],
   "source": [
    "# State space: x (dim = 11) and draws from delta_e = e1 - e0 (dim = 10000)\n",
    "x = 0:10\n",
    "draws_e = 10000\n",
    "delta_e = sort(rand(Gumbel(0,1), draws_e) - rand(Gumbel(0,1), draws_e)); \n",
    "\n",
    "# Static Utility\n",
    "U = [- theta[1]*x - theta[2]*x.^2 - theta[3]*ones(11,1)]\n",
    "\n",
    "# Initial value functions (state space: 11(x) x draws_e(Delta_e))\n",
    "V = ones(11, draws_e)\n",
    "I = ones(11, draws_e);"
   ]
  },
  {
   "cell_type": "code",
   "execution_count": 72,
   "id": "80c58e09",
   "metadata": {
    "slideshow": {
     "slide_type": "slide"
    }
   },
   "outputs": [
    {
     "ename": "LoadError",
     "evalue": "ArgumentError: Package interact not found in current path:\n- Run `import Pkg; Pkg.add(\"interact\")` to install the interact package.\n",
     "output_type": "error",
     "traceback": [
      "ArgumentError: Package interact not found in current path:\n- Run `import Pkg; Pkg.add(\"interact\")` to install the interact package.\n",
      "",
      "Stacktrace:",
      " [1] require(into::Module, mod::Symbol)",
      "   @ Base ./loading.jl:871",
      " [2] eval",
      "   @ ./boot.jl:360 [inlined]",
      " [3] include_string(mapexpr::typeof(REPL.softscope), mod::Module, code::String, filename::String)",
      "   @ Base ./loading.jl:1094"
     ]
    }
   ],
   "source": [
    "Test"
   ]
  },
  {
   "cell_type": "code",
   "execution_count": null,
   "id": "29a15e48",
   "metadata": {
    "slideshow": {
     "slide_type": "slide"
    }
   },
   "outputs": [],
   "source": [
    "\n",
    "\n",
    "\n",
    "\n",
    "rng(1)\n",
    "\n",
    "\n",
    "\n",
    "% Iterate the Bellman equation\n",
    "dist = 100;\n",
    "n = 1;\n",
    "\n",
    "tic\n",
    "while dist>1e-20\n",
    "    \n",
    "    % Expected future values (mean over possible shocks)\n",
    "    Exp_V = repmat(mean(V,2) ,1,draws_e);\n",
    "    \n",
    "    % Calculate new value function\n",
    "    V_0_new = U(:,1)*ones(1,draws_e) + ones(11,1)*delta_e + ...\n",
    "        beta*( (1-lambda)*Exp_V + lambda*[Exp_V(2:11,:); Exp_V(11,:)] );\n",
    "    V_1_new = U(:,2)*ones(1,draws_e) + ...\n",
    "        beta*( (1-lambda)*repmat(Exp_V(1,:) ,11,1) + lambda*repmat(Exp_V(2,:) ,11,1) );\n",
    "    V_new = max(V_0_new, V_1_new);\n",
    "\n",
    "    % Update distance for convergence\n",
    "    dist = max(max(abs(V_new - V)));\n",
    "    n = n+1;\n",
    "    \n",
    "    % Update value function\n",
    "    V = V_new;\n",
    "    \n",
    "end\n",
    "toc\n",
    "\n",
    "% Calculate the policy function (I==1: invest/replace the engine)\n",
    "I = V_1_new>V_0_new;\n",
    "\n",
    "% Check frequency of investment decisions\n",
    "sum(sum(I))/(11*draws_e)"
   ]
  }
 ],
 "metadata": {
  "celltoolbar": "Slideshow",
  "kernelspec": {
   "display_name": "Julia 1.6.1",
   "language": "julia",
   "name": "julia-1.6"
  },
  "language_info": {
   "file_extension": ".jl",
   "mimetype": "application/julia",
   "name": "julia",
   "version": "1.6.1"
  }
 },
 "nbformat": 4,
 "nbformat_minor": 5
}
