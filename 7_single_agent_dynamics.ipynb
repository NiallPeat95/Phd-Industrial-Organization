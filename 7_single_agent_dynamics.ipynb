{
 "cells": [
  {
   "cell_type": "markdown",
   "id": "409a4e1d",
   "metadata": {
    "slideshow": {
     "slide_type": "slide"
    }
   },
   "source": [
    "# Single Agent Dynamics\n",
    "\n",
    "Rust (1987)\n",
    "\n",
    "*Optimal Replacement of GMC Bus Engines: An Empirical Model of Harold Zurcher*"
   ]
  },
  {
   "cell_type": "markdown",
   "id": "8b0c6db6",
   "metadata": {
    "slideshow": {
     "slide_type": "slide"
    }
   },
   "source": [
    "## Setting\n",
    "\n",
    "- An agent owns a fleed to buses\n",
    "- Buses get old over time\n",
    "- The older the bus is, the most costly it is to mantain\n",
    "- The agent can decide to replace the bus engine with a new one, at a cost\n",
    "- **Dynamic trade-off**\n",
    "    - What is the best moment to replace the engine?\n",
    "    - You don't want to replace an engine too early\n",
    "        - doesn't change much\n",
    "    - You don't want to replace an engine too late\n",
    "        - avoid unnecessary maintenance costs"
   ]
  },
  {
   "cell_type": "markdown",
   "id": "b7f271c9",
   "metadata": {
    "slideshow": {
     "slide_type": "slide"
    }
   },
   "source": [
    "- **State**: mileage of the bus\n",
    "\n",
    "    $$x_t \\in \\{1, ..., 10\\}$$\n",
    "    \n",
    "- **State transitions**: with probability $\\lambda$ the mileage of the bus increases\n",
    "    \n",
    "    $$\n",
    "    x_{t+1} = \\begin{cases}\n",
    "    \\min \\left\\{ x_t + 1,10 \\right\\}  & \\text { with probability } \\lambda \\\\ \n",
    "    x_t & \\text { with probability } 1 - \\lambda\n",
    "    \\end{cases}\n",
    "    $$\n",
    "    \n",
    "    Note that $\\lambda$ does not depend on the value of the state"
   ]
  },
  {
   "cell_type": "markdown",
   "id": "47b73968",
   "metadata": {
    "slideshow": {
     "slide_type": "slide"
    }
   },
   "source": [
    "- **Action**: replacement decision\n",
    "\n",
    "    $$\n",
    "    i_t \\in \\{0, 1 \\}\n",
    "    $$\n",
    "    \n",
    "- **Payoffs**\n",
    "\n",
    " - Per-period maintenance cost \n",
    " - Cost of replacement\n",
    "    \n",
    "    $$\n",
    "    u\\left(x_{t}, i_{t}, \\epsilon_{1 t}, \\epsilon_{2 t} ; \\theta\\right)= \n",
    "    \\begin{cases}\n",
    "    -\\theta_{1} x_{t}-\\theta_{2} x_{t}^{2}+\\epsilon_{0 t}, & \\text { if } i_{t}=0 \\\\ \n",
    "    -\\theta_{3}+\\epsilon_{1 t}, & \\text { if } i_{t}=1\n",
    "    \\end{cases}\n",
    "    $$"
   ]
  },
  {
   "cell_type": "markdown",
   "id": "4b7d9cf5",
   "metadata": {
    "slideshow": {
     "slide_type": "slide"
    }
   },
   "source": [
    "# Simulation\n",
    "\n",
    "- Start with an initial value function $V(x_t)=0$\n",
    "- Compute expected value w.r.t. $\\lambda$\n",
    "  \n",
    "  $$\n",
    "  W(x_t) = \\begin{cases}\n",
    "  -\\theta_1 x_t - \\theta_2 x_t^2 + \\beta \\Big[(1-\\lambda) V(x_t) + \\lambda V(\\min \\{x_t+1,10 \\}) \\Big] , & \\text { if } i_t=0 \\\\\n",
    "  -\\theta_3 + \\beta \\Big[(1-\\lambda) V(0) + \\lambda V(1) \\Big] , & \\text { if } i_t=1\n",
    "\\end{cases}\n",
    "  $$\n",
    "  \n",
    "- Compute the new value of V\n",
    "\n",
    "  $$\n",
    "  V'(x_t) = \\log \\Big( e^{W(x_t|i_t=0)} + e^{W(x_t|i_t=1)} \\Big)\n",
    "  $$\n",
    "  \n",
    "- Repeat until convergence"
   ]
  },
  {
   "cell_type": "code",
   "execution_count": 532,
   "id": "782406b4",
   "metadata": {
    "slideshow": {
     "slide_type": "subslide"
    }
   },
   "outputs": [],
   "source": [
    "# Set parameters\n",
    "theta = [0.13; -0.004; 3.1]\n",
    "lambda = 0.82\n",
    "beta = 0.95;"
   ]
  },
  {
   "cell_type": "code",
   "execution_count": 533,
   "id": "9e2c203a",
   "metadata": {
    "slideshow": {
     "slide_type": "subslide"
    }
   },
   "outputs": [],
   "source": [
    "# State space\n",
    "x = 0:10\n",
    "\n",
    "# Index for lambda and for investment\n",
    "index_lambda = Int8[1:11 [2:11;11]] \n",
    "index_i = Int8[1:11 ones(11,1)];"
   ]
  },
  {
   "cell_type": "code",
   "execution_count": 541,
   "id": "29a15e48",
   "metadata": {
    "slideshow": {
     "slide_type": "subslide"
    }
   },
   "outputs": [
    {
     "name": "stdout",
     "output_type": "stream",
     "text": [
      "Converged after 680 iterations!"
     ]
    }
   ],
   "source": [
    "function compute_V(theta, lambda, beta)\n",
    "    dist = 100;\n",
    "    iter = 0\n",
    "    V = zeros(11);\n",
    "    V_bar = V;\n",
    "    U = [- theta[1]*x - theta[2]*x.^2 (-theta[3])*ones(11,1)]\n",
    "\n",
    "    # Iterate the Bellman equation until convergence\n",
    "    while dist>1e-20\n",
    "\n",
    "        # Expected future values (mean over possible shocks)\n",
    "        Exp_V = V[index_lambda] * [1-lambda; lambda];\n",
    "        V_bar = beta * (U + Exp_V[index_i])\n",
    "        V_new = log.(sum(exp.(V_bar), dims=2))\n",
    "\n",
    "        # Check distance for convergence\n",
    "        dist = max(abs.(V_new - V)...);\n",
    "        iter += 1;\n",
    "\n",
    "        # Update value function\n",
    "        V = V_new \n",
    "    end\n",
    "    return V, V_bar\n",
    "end\n",
    "\n",
    "V, V_bar = compute_V(theta, lambda, beta)\n",
    "print(\"Converged after \", iter, \" iterations!\")"
   ]
  },
  {
   "cell_type": "code",
   "execution_count": 542,
   "id": "96e641da",
   "metadata": {
    "slideshow": {
     "slide_type": "subslide"
    }
   },
   "outputs": [
    {
     "name": "stdout",
     "output_type": "stream",
     "text": [
      "we observe 22132 investment decisions in 100000 observations"
     ]
    }
   ],
   "source": [
    "using Distributions\n",
    "\n",
    "# Draw shocks\n",
    "k = 100000\n",
    "e = rand(Gumbel(0,1), k, 2)\n",
    "\n",
    "# Draw states\n",
    "x_t = rand(x.+1,k)\n",
    "\n",
    "# Compute investment decisions\n",
    "I = ((V_bar[x_t,:] + e) * [-1;1]) .> 0\n",
    "\n",
    "# Compute next state\n",
    "x_t1 = min.(x_t .* (I.==0) + (rand(Uniform(0,1),k).<lambda), 10)\n",
    "\n",
    "print(\"we observe \", sum(I), \" investment decisions in \", k, \" observations\")"
   ]
  },
  {
   "cell_type": "markdown",
   "id": "55d033f8",
   "metadata": {
    "slideshow": {
     "slide_type": "slide"
    }
   },
   "source": [
    "# Estimation - lambda\n",
    "\n",
    "- First we can estimate the value of lambda as the mean \n",
    "\n",
    "  $$\n",
    "  \\hat \\lambda = \\mathbb E_n \\Big[ (x_{t+1}-x_t) \\mid i_{t}=0 \\wedge x_{t}<10 \\Big]\n",
    "  $$"
   ]
  },
  {
   "cell_type": "code",
   "execution_count": 552,
   "id": "75b8368e",
   "metadata": {
    "slideshow": {
     "slide_type": "subslide"
    }
   },
   "outputs": [
    {
     "name": "stdout",
     "output_type": "stream",
     "text": [
      "Estimated lambda: 0.8205259511401632\n",
      "True lambda:      0.82"
     ]
    }
   ],
   "source": [
    "import Statistics\n",
    "\n",
    "# Estimate lambda\n",
    "delta = x_t1 - x_t\n",
    "lambda_hat = mean(delta[(I.==0) .& (x_t.<10)])\n",
    "\n",
    "print(\"Estimated lambda: \", lambda_hat)\n",
    "print(\"\\nTrue lambda:      \", lambda)"
   ]
  },
  {
   "cell_type": "markdown",
   "id": "09ef48e4",
   "metadata": {
    "slideshow": {
     "slide_type": "slide"
    }
   },
   "source": [
    "# Estimation - theta\n",
    "\n",
    "- Take a parameter guess $\\theta_0$\n",
    "- Compute the corresponding value function $V(x_t | \\hat \\lambda, \\theta_0)$\n",
    "- Compute the implied choice probabilities\n",
    "- Compute the likelihood\n",
    "\n",
    "  $$\n",
    "  \\mathcal{L}(\\theta)=\\prod_{t=1}^{T}\\left(\\hat{\\operatorname{Pr}}\\left(i=1 \\mid x_{t}, \\theta\\right) \\mathbb{1}\\left(i_{t}=1\\right)+\\left(1-\\hat{\\operatorname{Pr}}\\left(i=0 \\mid x_{t}, \\theta\\right)\\right) \\mathbb{1}\\left(i_{t}=0\\right)\\right)\n",
    "  $$\n",
    "\n",
    "- Repeat the above to find a minimum of the likelihood function"
   ]
  },
  {
   "cell_type": "code",
   "execution_count": 571,
   "id": "f1dec553",
   "metadata": {
    "slideshow": {
     "slide_type": "subslide"
    }
   },
   "outputs": [
    {
     "name": "stdout",
     "output_type": "stream",
     "text": [
      "The likelihood at the true values is -49246.706953102825"
     ]
    }
   ],
   "source": [
    "function logL(theta0, lambda_hat, beta, x_t)\n",
    "    # Compute value\n",
    "    V, V_bar = compute_V(theta0, lambda_hat, beta)\n",
    "    \n",
    "    # Implied choice probabilities\n",
    "    pr_I = exp.(V_bar[:,2]) ./ (exp.(V_bar[:,1]) + exp.(V_bar[:,2]))\n",
    "    \n",
    "    # Likelihood\n",
    "    L = sum(log.(pr_I[x_t[I.==1]])) + sum(log.(1 .- pr_I[x_t[I.==0]]))\n",
    "    return L\n",
    "end\n",
    "\n",
    "print(\"The likelihood at the true values is \", logL(theta, lambda, beta, x_t))"
   ]
  },
  {
   "cell_type": "code",
   "execution_count": 570,
   "id": "b106fd59",
   "metadata": {
    "slideshow": {
     "slide_type": "subslide"
    }
   },
   "outputs": [
    {
     "name": "stdout",
     "output_type": "stream",
     "text": [
      "Estimated thetas: [0.12035090601820495, -0.0032215240288903956, 3.0547532223686016]\n",
      "True thetas:      [0.13, -0.004, 3.1]"
     ]
    }
   ],
   "source": [
    "using Optim\n",
    "\n",
    "# Initialize\n",
    "theta0 = Float64[0,0,0]\n",
    "\n",
    "# Optimize\n",
    "opt = optimize((x -> -logL(x, lambda_hat, beta, x_t)), theta0)\n",
    "print(\"Estimated thetas: \", opt.minimizer)\n",
    "print(\"\\nTrue thetas:      \", theta)"
   ]
  },
  {
   "cell_type": "code",
   "execution_count": 551,
   "id": "a1ef9f84",
   "metadata": {
    "slideshow": {
     "slide_type": "subslide"
    }
   },
   "outputs": [
    {
     "data": {
      "text/plain": [
       " * Status: success\n",
       "\n",
       " * Candidate solution\n",
       "    Final objective value:     4.924557e+04\n",
       "\n",
       " * Found with\n",
       "    Algorithm:     Nelder-Mead\n",
       "\n",
       " * Convergence measures\n",
       "    √(Σ(yᵢ-ȳ)²)/n ≤ 1.0e-08\n",
       "\n",
       " * Work counters\n",
       "    Seconds run:   1  (vs limit Inf)\n",
       "    Iterations:    99\n",
       "    f(x) calls:    188\n"
      ]
     },
     "execution_count": 551,
     "metadata": {},
     "output_type": "execute_result"
    }
   ],
   "source": [
    "# We can also get info on the optimum\n",
    "opt"
   ]
  },
  {
   "cell_type": "code",
   "execution_count": 568,
   "id": "1f9dc293",
   "metadata": {
    "slideshow": {
     "slide_type": "-"
    }
   },
   "outputs": [
    {
     "name": "stdout",
     "output_type": "stream",
     "text": [
      "Estimated thetas: [1.0, 1.0, 1.0]\n",
      "True thetas:      [0.13, -0.004, 3.1]"
     ]
    }
   ],
   "source": [
    "# Not all initial values are equally good\n",
    "theta0 = Float64[1,1,1]\n",
    "\n",
    "# Optimize\n",
    "opt = optimize((x -> -logL(x, lambda_hat, beta, x_t)), theta0)\n",
    "print(\"Estimated thetas: \", opt.minimizer)\n",
    "print(\"\\nTrue thetas:      \", theta)"
   ]
  }
 ],
 "metadata": {
  "celltoolbar": "Slideshow",
  "kernelspec": {
   "display_name": "Julia 1.6.1",
   "language": "julia",
   "name": "julia-1.6"
  },
  "language_info": {
   "file_extension": ".jl",
   "mimetype": "application/julia",
   "name": "julia",
   "version": "1.6.1"
  }
 },
 "nbformat": 4,
 "nbformat_minor": 5
}
