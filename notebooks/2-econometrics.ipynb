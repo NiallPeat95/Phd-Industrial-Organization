{
 "cells": [
  {
   "cell_type": "markdown",
   "id": "00ca5b1a",
   "metadata": {
    "slideshow": {
     "slide_type": "slide"
    }
   },
   "source": [
    "# Econometrics Crash Course"
   ]
  },
  {
   "cell_type": "markdown",
   "id": "d511944e",
   "metadata": {
    "slideshow": {
     "slide_type": "slide"
    }
   },
   "source": [
    "What econometrics tools are usually used in empirical io?\n",
    "\n",
    "- Linear regression\n",
    "- Logistic regression and discrete choice models\n",
    "- Maximum likelihood estimation\n",
    "- GMM estimation\n",
    "- ML and GMM with simulations\n",
    "- Resampling and bootstrapping"
   ]
  },
  {
   "cell_type": "markdown",
   "id": "68d9fbcb",
   "metadata": {
    "slideshow": {
     "slide_type": "slide"
    }
   },
   "source": [
    "To go to code, press `arrow-down`."
   ]
  },
  {
   "cell_type": "code",
   "execution_count": null,
   "id": "da875eaf",
   "metadata": {
    "slideshow": {
     "slide_type": "subslide"
    }
   },
   "outputs": [],
   "source": [
    "# Here you can put code \n",
    "a = 1"
   ]
  }
 ],
 "metadata": {
  "celltoolbar": "Slideshow",
  "kernelspec": {
   "display_name": "Julia 1.6.1",
   "language": "julia",
   "name": "julia-1.6"
  },
  "language_info": {
   "file_extension": ".jl",
   "mimetype": "application/julia",
   "name": "julia",
   "version": "1.6.1"
  }
 },
 "nbformat": 4,
 "nbformat_minor": 5
}
