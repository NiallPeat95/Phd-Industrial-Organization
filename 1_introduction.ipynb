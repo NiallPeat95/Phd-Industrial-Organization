{
 "cells": [
  {
   "cell_type": "markdown",
   "id": "7a1010b0",
   "metadata": {
    "slideshow": {
     "slide_type": "slide"
    }
   },
   "source": [
    "# Introduction\n",
    "\n",
    "Empirical Industrial Organization Course\n",
    "\n",
    "*Matteo Courthoud*"
   ]
  },
  {
   "cell_type": "markdown",
   "id": "36ae0ab8",
   "metadata": {
    "slideshow": {
     "slide_type": "slide"
    }
   },
   "source": [
    "Topics of the course (tentative)\n",
    "\n",
    "1. Econometrics\n",
    "2. Production function estimation\n",
    "3. Demand estimation\n",
    "4. Merger analysis\n",
    "5. Entry and exit\n",
    "6. Single agent problems\n",
    "7. Dynamic games"
   ]
  },
  {
   "cell_type": "code",
   "execution_count": null,
   "id": "e8e4141d",
   "metadata": {
    "slideshow": {
     "slide_type": "slide"
    }
   },
   "outputs": [],
   "source": [
    "# Here you can put code \n",
    "a = 1"
   ]
  }
 ],
 "metadata": {
  "celltoolbar": "Slideshow",
  "kernelspec": {
   "display_name": "Julia 1.6.1",
   "language": "julia",
   "name": "julia-1.6"
  },
  "language_info": {
   "file_extension": ".jl",
   "mimetype": "application/julia",
   "name": "julia",
   "version": "1.6.1"
  }
 },
 "nbformat": 4,
 "nbformat_minor": 5
}
